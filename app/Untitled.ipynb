{
 "cells": [
  {
   "cell_type": "code",
   "execution_count": 5,
   "metadata": {},
   "outputs": [],
   "source": [
    "from django.shortcuts import render\n",
    "from django.http import HttpResponse\n",
    " \n",
    "\n",
    "import joblib\n",
    "\n",
    "model=joblib.load('gre.pkl')\n",
    "\n",
    "\n",
    "# Create your views here.\n",
    "def home(request):\n",
    "    return render(request,'home.html',{'name':'yuvi'})\n",
    "def add(request):\n",
    "    a=(request.POST['a'])\n",
    "    b=(request.POST['b'])\n",
    "    c=(request.POST['c'])\n",
    "    d=(request.POST['d'])\n",
    "    e=(request.POST['e'])\n",
    "    f=(request.POST['f'])\n",
    "    g=(request.POST['g'])\n",
    "    print(a,b,c,d,e,f,gsklearn.neighbors._classification)\n",
    "    out=model.predict([[int(a),int(b),int(c),float(d),float(e),float(f),int(g)]])\n",
    "    if out==1:\n",
    "        c=\"YOU WILL GET ADMISSION\"\n",
    "    else:\n",
    "        c=\"SORRY YOU DON'T GET ADMISSION\"\n",
    "    return render(request,'result.html',{'res':c})\n"
   ]
  },
  {
   "cell_type": "code",
   "execution_count": 2,
   "metadata": {},
   "outputs": [
    {
     "name": "stdout",
     "output_type": "stream",
     "text": [
      "Collecting django\n",
      "  Downloading https://files.pythonhosted.org/packages/22/e6/7c6f9e682578550f748cc33dff04bf812fe0fb7d819fa094a4bb6d2dc2a1/Django-3.2.8-py3-none-any.whl (7.9MB)\n",
      "Requirement already satisfied: pytz in c:\\users\\subbu\\anaconda3\\lib\\site-packages (from django) (2019.1)\n",
      "Collecting sqlparse>=0.2.2 (from django)\n",
      "  Downloading https://files.pythonhosted.org/packages/05/40/d836d55fb3f467243ee839ab7b814822fda522cd395fa41e282684e71ee5/sqlparse-0.4.2-py3-none-any.whl (42kB)\n",
      "Collecting asgiref<4,>=3.3.2 (from django)\n",
      "  Downloading https://files.pythonhosted.org/packages/fe/66/577f32b54c50dcd8dec38447258e82ed327ecb86820d67ae7b3dea784f13/asgiref-3.4.1-py3-none-any.whl\n",
      "Collecting typing-extensions; python_version < \"3.8\" (from asgiref<4,>=3.3.2->django)\n",
      "  Downloading https://files.pythonhosted.org/packages/74/60/18783336cc7fcdd95dae91d73477830aa53f5d3181ae4fe20491d7fc3199/typing_extensions-3.10.0.2-py3-none-any.whl\n",
      "Installing collected packages: sqlparse, typing-extensions, asgiref, django\n",
      "Successfully installed asgiref-3.4.1 django-3.2.8 sqlparse-0.4.2 typing-extensions-3.10.0.2\n"
     ]
    }
   ],
   "source": [
    "!pip install django"
   ]
  }
 ],
 "metadata": {
  "kernelspec": {
   "display_name": "Python 3",
   "language": "python",
   "name": "python3"
  },
  "language_info": {
   "codemirror_mode": {
    "name": "ipython",
    "version": 3
   },
   "file_extension": ".py",
   "mimetype": "text/x-python",
   "name": "python",
   "nbconvert_exporter": "python",
   "pygments_lexer": "ipython3",
   "version": "3.7.3"
  }
 },
 "nbformat": 4,
 "nbformat_minor": 2
}
